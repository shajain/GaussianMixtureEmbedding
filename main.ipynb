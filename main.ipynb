{
 "cells": [
  {
   "cell_type": "code",
   "execution_count": null,
   "id": "faea367d",
   "metadata": {},
   "outputs": [],
   "source": [
    "# Demo for Multi mixuture embedding with responsibilities coming from GMM fitted \n",
    "#on the embeddings\n",
    "import os\n",
    "os.chdir('..')\n",
    "from MultiMixGMMEmbedding.fit import GMEFitting\n",
    "fit = GMEFitting.demo()"
   ]
  },
  {
   "cell_type": "code",
   "execution_count": null,
   "id": "b7eb867f",
   "metadata": {},
   "outputs": [],
   "source": [
    "# Demo for fitting Gaussian mixture model on two samples with two components each\n",
    "import os\n",
    "os.chdir('..')\n",
    "from GMM.fit import GMMFitting\n",
    "fit = GMMFitting.demo()"
   ]
  }
 ],
 "metadata": {
  "kernelspec": {
   "display_name": "Python 3 (ipykernel)",
   "language": "python",
   "name": "python3"
  },
  "language_info": {
   "codemirror_mode": {
    "name": "ipython",
    "version": 3
   },
   "file_extension": ".py",
   "mimetype": "text/x-python",
   "name": "python",
   "nbconvert_exporter": "python",
   "pygments_lexer": "ipython3",
   "version": "3.9.13"
  }
 },
 "nbformat": 4,
 "nbformat_minor": 5
}
