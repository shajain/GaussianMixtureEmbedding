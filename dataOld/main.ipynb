{
 "cells": [
  {
   "cell_type": "code",
   "execution_count": 1,
   "metadata": {},
   "outputs": [],
   "source": [
    "#import inbuilt packages\n",
    "import os\n",
    "os.chdir(\"..\")\n",
    "from scipy.stats import bernoulli\n",
    "\n",
    "from scipy.stats import mvn\n",
    "import matplotlib.pyplot as plt\n",
    "import numpy as np\n",
    "from scipy.stats import norm\n",
    "import pdb\n",
    "import pandas as pd\n",
    "#from sklearn.preprocessing import LabelEncoder\n",
    "#from sklearn.utils import shuffle\n",
    "#from sklearn.model_selection import train_test_split\n",
    "from scipy.stats import norm\n",
    "from plots import sortedplot as sp\n",
    "#from tensorflow.python import debug as tf_debug\n",
    "#import tensorflow.keras.backend as K\n",
    "from misc.sample import posterior_sample \n",
    "#import importlib as imp\n",
    "from datagen import GaussianDG \n",
    "from datagen import NormalMixDG \n",
    "from datagen import DataGenerator\n",
    "#from data.randomParameters import NormalMixRandomParameters as NMixPar1\n",
    "from data.randomParameters import NormalMixPNParameters as NMixPar\n",
    "from random import randint\n",
    "import seaborn as sns\n",
    "import pandas as pd\n",
    "\n",
    "#tf.enable_eager_execution()"
   ]
  },
  {
   "cell_type": "code",
   "execution_count": null,
   "metadata": {},
   "outputs": [],
   "source": [
    "#Vikram, please Start here\n",
    "\n",
    "#Dataset Generation: Positive set is drawn from N(0,1). The distribution of negatives is a Normal with mean mu,\n",
    "#standard deviation sig. alpha is the proportion of positives in the Unlabeled set. n_p and n_u are the size of \n",
    "#the positive and the unlabeled sets\n",
    "#pdb.set_trace()\n",
    "#alpha will be the proportion of positives in the unlabeled set\n",
    "alpha = 0.05\n",
    "n_p = 5000\n",
    "n_u =20000\n",
    "mu = 2\n",
    "sig = 1\n",
    "dg = GaussianDG(mu=mu, sig=sig, alpha=alpha, n_p=n_p, n_u=n_u)\n",
    "#x contains the one dimensional feature. y contains the PU labels (1: positive, 0:unlabeled) and y_p contains \n",
    "#the labels of all positives including the one in the unlabeled set\n",
    "[x,y,y_p] = dg.pu_data()\n",
    "#Visualize the PU and PN densities. \n",
    "\n",
    "#To generate PN Data\n",
    "x_p = dg.data_pos(1000)\n",
    "x_n = dg.data_neg(1000)\n",
    "\n",
    "#PN posterior. This is what we want to estimate\n",
    "#sp.sortedplot() sorts the inputs w.r.t the x coordinate before plotting\n",
    "sp.sortedplot(x, dg.pn_posterior_cc(x))\n",
    "\n",
    "#PU posterior. This is what we can estimate by training a PU classifier.\n",
    "sp.sortedplot(x, dg.pu_posterior(x))\n",
    "\n",
    "sp.sortedplot(x, dg.dens_mix(x, alpha))\n",
    "sp.sortedplot(x, dg.dens_neg(x))\n",
    "sp.sortedplot(x, dg.dens_pos(x))\n",
    "sp.hist(x[(y_p==0).flatten(),:], bins=20, density=True)\n",
    "sp.hist(x[(y==1).flatten(),:], bins=18, density=True)\n",
    "sp.show()"
   ]
  },
  {
   "cell_type": "code",
   "execution_count": null,
   "metadata": {},
   "outputs": [],
   "source": [
    "#Dataset Generation: Positive set is drawn from N(0,1). The distribution of negatives is a a mixture of Normals. \n",
    "#alpha is the proportion of positives in the Unlabeled set. n_p and n_u are the size of the positive and the \n",
    "#unlabeled sets\n",
    "#pdb.set_trace()\n",
    "alpha = 0.25\n",
    "n_pos = 500\n",
    "n_ul =20000\n",
    "mu_neg = np.array([-4.0, 4.0])\n",
    "sig_pos = np.array([1.0])\n",
    "p_pos = np.array([1.0])\n",
    "mu_pos = np.array([0.0])\n",
    "sig_neg = np.array([1.0, 1.0])\n",
    "p_neg = np.array([0.5, 0.5])\n",
    "\n",
    "dg = NormalMixDG(mu_pos=mu_pos, sig_pos=sig_pos, p_pos=p_pos, mu_neg=mu_neg, sig_neg=sig_neg, p_neg=p_neg,\n",
    "                 alpha=alpha, n_pos=n_pos, n_ul=n_ul)\n",
    "#x contains the one dimensional feature. y contains the PU labels and y_p contains the labels of all positives\n",
    "#including the one in the unlabeled set\n",
    "[x,y,y_p] = dg.pu_data()"
   ]
  },
  {
   "cell_type": "code",
   "execution_count": null,
   "metadata": {},
   "outputs": [],
   "source": [
    "#Visualize the PU and PN densities. \n",
    "\n",
    "#PN posterior. This is what we want to estimate\n",
    "#sp.sortedplot() sorts the inputs w.r.t the x coordinate before plotting\n",
    "sp.sortedplot(x, dg.pn_posterior_cc(x))\n",
    "\n",
    "#PU posterior. This is what we can estimate by training a PU classifier.\n",
    "sp.sortedplot(x, dg.pu_posterior(x))\n",
    "\n",
    "sp.sortedplot(x, dg.dens_mix(x, alpha))\n",
    "sp.sortedplot(x, dg.dens_neg(x))\n",
    "sp.sortedplot(x, dg.dens_pos(x))\n",
    "\n",
    "sp.show()"
   ]
  },
  {
   "cell_type": "markdown",
   "metadata": {},
   "source": [
    "### Approximating Irreducibility:\n",
    "We can quantify irreducibility as the probability mass of the region in the support of the positive density, where the negative density is $0$. This region can be defined in terms of the PN posterior as that region, where the PN posterior takes value of $1$. In theory, this is true irrespective of the value of the class prior. We relax the criteria of defining the region with a PN posterior of $1$ and instead define it with PN Posterior achieving value greater than $a$, for some value of $a$ close to 1. \n",
    "\\begin{align*}\n",
    "I_a(f_1,f_0) &= \\int \\mathbf{I}[p(y=1|x)\\geq a] f_1(x)dx\\\\\n",
    " &= \\mathbf{E}_{f_1}\\big[\\mathbf{I}[p(y=1|x)\\geq a]\\big]\n",
    "\\end{align*}\n",
    "where $p(y=1|x)$ is the balalnced class posterior, i.e.,\n",
    "\\begin{align*}\n",
    "p(y=1|x) &= \\frac{0.5f_1(x)}{0.5f_1(x) + 0.5 f_0(x)} \\\\\n",
    "&= \\frac{f_1(x)}{f_1(x) + f_0(x)} \n",
    "\\end{align*}\n",
    "Notice that $I_1$ is the probability mass of the region in the support of positives the negatives have $0$ density. However, since Gaussian distribution is supported on the entire $R^d$ space, in theory $I_1$ is $0$. By choosing $a$ to be slightly below $1$ we relax the irreducibility criteria. For the data generation below, we used $a=0.95$"
   ]
  },
  {
   "cell_type": "code",
   "execution_count": null,
   "metadata": {},
   "outputs": [],
   "source": [
    "#Create a data generator having positive and negative distribution\n",
    "#%matplotlib inline\n",
    "#Set dimensions of the dataset\n",
    "dim =10\n",
    "#number of components in the positive and negative distribution\n",
    "n_comps = 3\n",
    "#The size of the PN Data for visulization\n",
    "n=10000\n",
    "#Create the initial positive negative distributions with components at random locations and identity covariance.\n",
    "#The distribution of the positives and negatives is identical for the initiallly\n",
    "NMix = NMixPar(dim, n_comps)\n",
    "#Compute AUCPN and approximate value of irreducibility.\n",
    "metrics = NMix.computePNDataMetrics()\n",
    "print(metrics)\n",
    "#Generate PN data for visualization. This is the data from initial distributions which has identical \n",
    "#positives and negatives\n",
    "xy, x, y, pos, neg, dg = NMix.generatePNData(n,n)\n",
    "#Visualize data with pair plots\n",
    "df = pd.DataFrame(xy)\n",
    "sns.pairplot(df, vars = np.arange(dim), hue = dim,  plot_kws = {'alpha': 0.1, 's': 20, 'edgecolor': 'k'},\n",
    "             size = 4)\n",
    "\n",
    "\n",
    "#Set a desired AUCPN Range. AUCPN is alaways greater then 0.5. I'll suggest starting with values of 0.6, below \n",
    "#0.6 the classes are almost identical\n",
    "aucpn_range = np.array([0.6,0.65])\n",
    "#Getting parameters in the right AUCPN range and the right Irreducibility range simultaneously is difficult. \n",
    "#Keeping the irreducibility range broad makes it easy. I'd suggest keep the irreducibility range to [0.01, 1] \n",
    "irreducibility_range = np.array([0.01,1])\n",
    "#Perturb the parameters of the positive and negative distribution components as well as the the component proportions \n",
    "#to achieve desired AUCPN and Irreducibility range\n",
    "NMix.perturb2SatisfyMetrics(irreducibility_range, aucpn_range)\n",
    "#Generate PN Data for visulaization. \n",
    "xy, x, y, pos, neg, dg = NMix.generatePNData(n,n)\n",
    "#Compute the metrics\n",
    "metrics = NMix.computePNDataMetrics()\n",
    "print(metrics)\n",
    "#visualize\n",
    "df = pd.DataFrame(xy)\n",
    "sns.pairplot(df, vars = np.arange(dim), hue = dim,  plot_kws = {'alpha': 0.1, 's': 20, 'edgecolor': 'k'},\n",
    "             size = 4)\n",
    "\n",
    "#Generate the PU Data\n",
    "n_u = 20000\n",
    "n_p = 5000\n",
    "dgPU = NMix.createDataGenerator(n_p, n_u)\n",
    "#x contains the input features. y contains the PU labels and y_p contains the labels of all positives\n",
    "#including the one in the unlabeled set\n",
    "[x,y,y_p] = dgPU.pu_data()\n",
    "    \n"
   ]
  },
  {
   "cell_type": "code",
   "execution_count": null,
   "metadata": {},
   "outputs": [],
   "source": [
    "#Code for 3D plot \n",
    "ax = plt.axes(projection='3d')\n",
    "posterior = dg.pn_posterior_balanced(x)\n",
    "ax.scatter3D(x[:,0], x[:,1], x[:,2], c= posterior > 0.95)\n",
    "plt.scatter()"
   ]
  },
  {
   "cell_type": "code",
   "execution_count": null,
   "metadata": {},
   "outputs": [],
   "source": [
    "#Multivariate data generator.\n",
    "from data.randomParameters import NormalMixParameters as NMixPar\n",
    "def GaussianMixtureDataGenerator(dim, n_comps, aucpn_range):\n",
    "    irreducibility_range = [0.01, 1]\n",
    "    NMix = NMixPar(dim, n_comps)\n",
    "    NMix.perturb2SatisfyMetrics(irreducibility_range, aucpn_range)\n",
    "    dg = NMix.dg\n",
    "    return NMix, dg\n",
    "\n",
    "#Dimension\n",
    "dim = 10\n",
    "#Number of components in positves and negatives\n",
    "n_comps = 10\n",
    "#The desired range of AUC\n",
    "aucpn_range = [0.65, 0.7]\n",
    "#Dataset size\n",
    "n = 20000\n",
    "#proportion of positives\n",
    "alpha = 0.5\n",
    "NMix, dg = GaussianMixtureDataGenerator(dim, n_comps, aucpn_range)\n",
    "#x contains the features and y contains the class labels\n",
    "x, y = dg.pn_data(n, alpha)[0:2]"
   ]
  },
  {
   "cell_type": "code",
   "execution_count": null,
   "metadata": {},
   "outputs": [],
   "source": [
    "[NMix.acceptableSigma(sigma) for sigma in NMix.sig_neg + NMix.sig_pos]"
   ]
  },
  {
   "cell_type": "code",
   "execution_count": null,
   "metadata": {},
   "outputs": [],
   "source": [
    "NMix.sig_neg"
   ]
  },
  {
   "cell_type": "code",
   "execution_count": 2,
   "metadata": {},
   "outputs": [
    {
     "name": "stdout",
     "output_type": "stream",
     "text": [
      "{'aucpn': 0.5, 'irreducibility': 0.0}\n",
      "Sigma Scale Perturb\n",
      "Sigma Ratios: [0.0625 1.    ]\n",
      "0.75\n",
      "Sigma Ratios: [0.31640625 1.        ]\n",
      "0.875\n",
      "Sigma Ratios: [0.58618164 1.        ]\n",
      "Sigma Ratios: [0.58618164 1.        ]\n",
      "{'aucpn': 0.5475425199999999, 'irreducibility': 0.0}\n",
      "Sigma Shape Perturb\n",
      "Sigma Ratios: [1.        0.3798884]\n",
      "Sigma Ratios: [1.         1.82813111]\n",
      "Sigma Ratios: [1.         1.82813111]\n",
      "{'aucpn': 0.7068667200000001, 'irreducibility': 0.0782}\n",
      "Perturb Proportion\n",
      "{'aucpn': 0.70857692, 'irreducibility': 0.0826}\n",
      "Perturb Proportion\n",
      "{'aucpn': 0.6959369200000001, 'irreducibility': 0.078}\n",
      "Perturb Proportion\n",
      "{'aucpn': 0.6931028400000001, 'irreducibility': 0.0724}\n",
      "Sigma Scale Perturb\n",
      "Sigma Ratios: [1.         0.11425819]\n",
      "0.75\n",
      "Sigma Ratios: [1.         0.57843211]\n",
      "Sigma Ratios: [1.         0.57843211]\n",
      "{'aucpn': 0.7153122000000001, 'irreducibility': 0.0282}\n",
      "Mu Perturb\n",
      "{'aucpn': 0.8427013999999999, 'irreducibility': 0.0708}\n",
      "Sigma Scale Perturb\n",
      "Sigma Ratios: [1.         0.03615201]\n",
      "0.75\n",
      "Sigma Ratios: [1.         0.18301953]\n",
      "0.875\n",
      "Sigma Ratios: [1.         0.33906628]\n",
      "0.9375\n",
      "Sigma Ratios: [1.         0.44682503]\n",
      "0.96875\n",
      "Sigma Ratios: [1.         0.50944729]\n",
      "Sigma Ratios: [1.         0.50944729]\n",
      "{'aucpn': 0.83745848, 'irreducibility': 0.0678}\n",
      "Sigma Scale Perturb\n",
      "Sigma Ratios: [0.12268198 1.        ]\n",
      "0.75\n",
      "Sigma Ratios: [0.6210775 1.       ]\n",
      "Sigma Ratios: [0.6210775 1.       ]\n",
      "{'aucpn': 0.86230156, 'irreducibility': 0.1482}\n",
      "Sigma Scale Perturb\n",
      "Sigma Ratios: [1.         0.10063156]\n",
      "0.75\n",
      "Sigma Ratios: [1.         0.50944729]\n",
      "Sigma Ratios: [1.         0.50944729]\n",
      "{'aucpn': 0.8734662800000002, 'irreducibility': 0.0836}\n",
      "Mu Perturb\n",
      "{'aucpn': 0.9162616000000001, 'irreducibility': 0.1984}\n",
      "Perturb Proportion\n",
      "{'aucpn': 0.9121867600000001, 'irreducibility': 0.198}\n",
      "Mu Perturb\n",
      "{'aucpn': 0.98034816, 'irreducibility': 0.6286}\n",
      "{'aucpn': 0.5, 'irreducibility': 0.0}\n",
      "Perturb Proportion\n",
      "{'aucpn': 0.5088032, 'irreducibility': 0.0}\n",
      "Sigma Shape Perturb\n",
      "Sigma Ratios: [1.         1.68423388]\n",
      "Sigma Ratios: [1.         1.68423388]\n",
      "{'aucpn': 0.7613764000000001, 'irreducibility': 0.1616}\n",
      "Sigma Scale Perturb\n",
      "Sigma Ratios: [1.         0.10526462]\n",
      "0.75\n",
      "Sigma Ratios: [1.         0.53290213]\n",
      "Sigma Ratios: [1.         0.53290213]\n",
      "{'aucpn': 0.77989572, 'irreducibility': 0.104}\n",
      "Perturb Proportion\n",
      "{'aucpn': 0.77694616, 'irreducibility': 0.113}\n",
      "Perturb Proportion\n",
      "{'aucpn': 0.78278956, 'irreducibility': 0.1172}\n",
      "Mu Perturb\n",
      "{'aucpn': 0.8653260399999999, 'irreducibility': 0.1414}\n",
      "Perturb Proportion\n",
      "{'aucpn': 0.8637333999999999, 'irreducibility': 0.1524}\n",
      "Sigma Scale Perturb\n",
      "Sigma Ratios: [0.11728232 1.        ]\n",
      "0.75\n",
      "Sigma Ratios: [0.59374177 1.        ]\n",
      "Sigma Ratios: [0.59374177 1.        ]\n",
      "{'aucpn': 0.8712660400000001, 'irreducibility': 0.2174}\n",
      "Mu Perturb\n",
      "{'aucpn': 0.9020590399999999, 'irreducibility': 0.2622}\n",
      "Sigma Scale Perturb\n",
      "Sigma Ratios: [0.03710886 1.        ]\n",
      "0.75\n",
      "Sigma Ratios: [0.18786361 1.        ]\n",
      "0.875\n",
      "Sigma Ratios: [0.34804052 1.        ]\n",
      "0.9375\n",
      "Sigma Ratios: [0.45865138 1.        ]\n",
      "0.96875\n",
      "Sigma Ratios: [0.52293109 1.        ]\n",
      "Sigma Ratios: [0.52293109 1.        ]\n",
      "{'aucpn': 0.89779144, 'irreducibility': 0.2808}\n",
      "Perturb Proportion\n",
      "{'aucpn': 0.90082532, 'irreducibility': 0.285}\n",
      "Mu Perturb\n",
      "{'aucpn': 0.93502164, 'irreducibility': 0.3418}\n",
      "Mu Perturb\n",
      "{'aucpn': 0.9424032800000001, 'irreducibility': 0.3938}\n",
      "Sigma Scale Perturb\n",
      "Sigma Ratios: [0.03268319 1.        ]\n",
      "0.75\n",
      "Sigma Ratios: [0.16545867 1.        ]\n",
      "0.875\n",
      "Sigma Ratios: [0.3065326 1.       ]\n",
      "0.9375\n",
      "Sigma Ratios: [0.40395182 1.        ]\n",
      "0.96875\n",
      "Sigma Ratios: [0.46056542 1.        ]\n",
      "0.984375\n",
      "Sigma Ratios: [0.49100596 1.        ]\n",
      "0.9921875\n",
      "Sigma Ratios: [0.50678 1.     ]\n",
      "Sigma Ratios: [0.50678 1.     ]\n",
      "{'aucpn': 0.943013, 'irreducibility': 0.3978}\n",
      "Perturb Proportion\n",
      "{'aucpn': 0.93998104, 'irreducibility': 0.403}\n",
      "Perturb Proportion\n",
      "{'aucpn': 0.9422123999999998, 'irreducibility': 0.3988}\n",
      "Mu Perturb\n",
      "{'aucpn': 0.9185075199999999, 'irreducibility': 0.315}\n",
      "Mu Perturb\n",
      "{'aucpn': 0.82930656, 'irreducibility': 0.2102}\n",
      "Mu Perturb\n",
      "{'aucpn': 0.9193052, 'irreducibility': 0.359}\n",
      "Sigma Shape Perturb\n",
      "Sigma Ratios: [0.35611633 1.        ]\n",
      "Sigma Ratios: [0.99673094 1.        ]\n",
      "Sigma Ratios: [0.99673094 1.        ]\n",
      "{'aucpn': 0.91043416, 'irreducibility': 0.4122}\n",
      "Sigma Scale Perturb\n",
      "Sigma Ratios: [0.06229568 1.        ]\n",
      "0.75\n",
      "Sigma Ratios: [0.3153719 1.       ]\n",
      "0.875\n",
      "Sigma Ratios: [0.58426538 1.        ]\n",
      "Sigma Ratios: [0.58426538 1.        ]\n",
      "{'aucpn': 0.91800248, 'irreducibility': 0.4466}\n",
      "Sigma Scale Perturb\n",
      "Sigma Ratios: [0.03651659 1.        ]\n",
      "0.75\n",
      "Sigma Ratios: [0.18486522 1.        ]\n",
      "0.875\n",
      "Sigma Ratios: [0.34248564 1.        ]\n",
      "0.9375\n",
      "Sigma Ratios: [0.4513311 1.       ]\n",
      "0.96875\n",
      "Sigma Ratios: [0.51458487 1.        ]\n",
      "Sigma Ratios: [0.51458487 1.        ]\n",
      "{'aucpn': 0.9206184000000001, 'irreducibility': 0.461}\n",
      "Perturb Proportion\n",
      "{'aucpn': 0.91462884, 'irreducibility': 0.446}\n",
      "Sigma Shape Perturb\n",
      "Sigma Ratios: [0.40293261 1.        ]\n",
      "Sigma Ratios: [1.29146158 1.        ]\n",
      "Sigma Ratios: [1.29146158 1.        ]\n",
      "{'aucpn': 0.9474295200000001, 'irreducibility': 0.533}\n",
      "Sigma Shape Perturb\n",
      "Sigma Ratios: [0.15365164 1.        ]\n",
      "Sigma Ratios: [2.03075562 1.        ]\n",
      "Sigma Ratios: [2.5499666 1.       ]\n",
      "Sigma Ratios: [2.2385598 1.       ]\n",
      "Sigma Ratios: [1.85801384 1.        ]\n",
      "Sigma Ratios: [1.85801384 1.        ]\n",
      "{'aucpn': 0.92952612, 'irreducibility': 0.4222}\n",
      "Sigma Scale Perturb\n",
      "Sigma Ratios: [0.11612587 1.        ]\n",
      "0.75\n",
      "Sigma Ratios: [0.58788719 1.        ]\n",
      "Sigma Ratios: [0.58788719 1.        ]\n",
      "{'aucpn': 0.9389928399999999, 'irreducibility': 0.4942}\n",
      "Perturb Proportion\n",
      "{'aucpn': 0.9422592000000001, 'irreducibility': 0.4998}\n",
      "Sigma Shape Perturb\n",
      "Sigma Ratios: [1.         4.57718525]\n",
      "Sigma Ratios: [1.         6.20035218]\n",
      "Sigma Ratios: [1.         4.27847227]\n",
      "Sigma Ratios: [1.         3.02644984]\n",
      "Sigma Ratios: [1.         2.36784187]\n",
      "Sigma Ratios: [1.         2.03485658]\n",
      "Sigma Ratios: [1.         1.86796748]\n",
      "Sigma Ratios: [1.         1.86796748]\n",
      "{'aucpn': 0.93674836, 'irreducibility': 0.4938}\n",
      "Sigma Scale Perturb\n",
      "Sigma Ratios: [1.         0.11674797]\n",
      "0.75\n",
      "Sigma Ratios: [1.         0.59103658]\n",
      "Sigma Ratios: [1.         0.59103658]\n",
      "{'aucpn': 0.9489050800000001, 'irreducibility': 0.4926}\n",
      "Perturb Proportion\n",
      "{'aucpn': 0.9526807199999999, 'irreducibility': 0.5082}\n",
      "{'aucpn': 0.5, 'irreducibility': 0.0}\n",
      "Sigma Scale Perturb\n",
      "Sigma Ratios: [0.0625 1.    ]\n",
      "0.75\n",
      "Sigma Ratios: [0.31640625 1.        ]\n",
      "0.875\n",
      "Sigma Ratios: [0.58618164 1.        ]\n",
      "Sigma Ratios: [0.58618164 1.        ]\n",
      "{'aucpn': 0.55471052, 'irreducibility': 0.0}\n",
      "Sigma Shape Perturb\n",
      "Sigma Ratios: [0.86343579 1.        ]\n",
      "Sigma Ratios: [0.86343579 1.        ]\n",
      "{'aucpn': 0.80569328, 'irreducibility': 0.1228}\n",
      "Sigma Shape Perturb\n",
      "Sigma Ratios: [0.77601823 1.        ]\n",
      "Sigma Ratios: [0.77601823 1.        ]\n",
      "{'aucpn': 0.79908204, 'irreducibility': 0.0786}\n",
      "Mu Perturb\n",
      "{'aucpn': 0.8767173599999999, 'irreducibility': 0.222}\n",
      "Sigma Shape Perturb\n",
      "Sigma Ratios: [0.58196498 1.        ]\n",
      "Sigma Ratios: [0.58196498 1.        ]\n",
      "{'aucpn': 0.8876934, 'irreducibility': 0.3132}\n",
      "Sigma Shape Perturb\n",
      "Sigma Ratios: [0.0023216 1.       ]\n",
      "Sigma Ratios: [0.16265161 1.        ]\n",
      "Sigma Ratios: [0.3404531 1.       ]\n",
      "Sigma Ratios: [0.45346789 1.        ]\n",
      "Sigma Ratios: [0.51581885 1.        ]\n",
      "Sigma Ratios: [0.51581885 1.        ]\n",
      "{'aucpn': 0.8893076799999999, 'irreducibility': 0.3128}\n",
      "Mu Perturb\n",
      "{'aucpn': 0.9471351600000001, 'irreducibility': 0.513}\n",
      "Perturb Proportion\n",
      "{'aucpn': 0.94565988, 'irreducibility': 0.5094}\n",
      "Sigma Shape Perturb\n",
      "Sigma Ratios: [0.61206671 1.        ]\n",
      "Sigma Ratios: [0.61206671 1.        ]\n",
      "{'aucpn': 0.9447042799999998, 'irreducibility': 0.4556}\n",
      "Perturb Proportion\n",
      "{'aucpn': 0.9434238, 'irreducibility': 0.4746}\n",
      "Perturb Proportion\n",
      "{'aucpn': 0.9457220399999999, 'irreducibility': 0.4758}\n",
      "Sigma Scale Perturb\n",
      "Sigma Ratios: [1.         0.10211305]\n",
      "0.75\n",
      "Sigma Ratios: [1.         0.51694733]\n",
      "Sigma Ratios: [1.         0.51694733]\n",
      "{'aucpn': 0.95221952, 'irreducibility': 0.4466}\n",
      "{'aucpn': 0.5, 'irreducibility': 0.0}\n",
      "Sigma Shape Perturb\n",
      "Sigma Ratios: [2.58606467e-04 1.00000000e+00]\n",
      "Sigma Ratios: [0.47190475 1.        ]\n",
      "Sigma Ratios: [0.87013247 1.        ]\n",
      "Sigma Ratios: [0.87013247 1.        ]\n",
      "{'aucpn': 0.6271930400000001, 'irreducibility': 0.0002}\n",
      "Mu Perturb\n",
      "{'aucpn': 0.7931068, 'irreducibility': 0.0588}\n",
      "Mu Perturb\n",
      "{'aucpn': 0.8148414399999999, 'irreducibility': 0.0922}\n",
      "Perturb Proportion\n",
      "{'aucpn': 0.8137910400000001, 'irreducibility': 0.0884}\n",
      "Mu Perturb\n"
     ]
    },
    {
     "name": "stdout",
     "output_type": "stream",
     "text": [
      "{'aucpn': 0.86125244, 'irreducibility': 0.1742}\n",
      "Sigma Shape Perturb\n",
      "Sigma Ratios: [1.         0.60900719]\n",
      "Sigma Ratios: [1.         0.60900719]\n",
      "{'aucpn': 0.90807792, 'irreducibility': 0.3482}\n",
      "Sigma Shape Perturb\n",
      "Sigma Ratios: [0.05657161 1.        ]\n",
      "Sigma Ratios: [0.97332993 1.        ]\n",
      "Sigma Ratios: [0.97332993 1.        ]\n",
      "{'aucpn': 0.91194128, 'irreducibility': 0.3938}\n",
      "Mu Perturb\n",
      "{'aucpn': 0.9707435199999999, 'irreducibility': 0.611}\n"
     ]
    }
   ],
   "source": [
    "#Multivariate data generator.\n",
    "from data.randomParameters import NormalMixPNParameters2 as NMixPar\n",
    "def GaussianMixtureDataGenerator(dim, n_comps, aucpn_range):\n",
    "    irreducibility_range = [0.001, 1]\n",
    "    NMix = NMixPar(dim, n_comps)\n",
    "    NMix.perturb2SatisfyMetrics(irreducibility_range, aucpn_range)\n",
    "    dg = NMix.dg\n",
    "    return NMix, dg\n",
    "\n",
    "#Dimension\n",
    "dim = 4\n",
    "#Number of components in positves and negatives\n",
    "n_comps = 4\n",
    "#The desired range of AUC\n",
    "aucpn_range = [0.95, 1]\n",
    "#Dataset size\n",
    "n = 20000\n",
    "#proportion of positives\n",
    "alpha = 0.5\n",
    "NMix, dg = GaussianMixtureDataGenerator(dim, n_comps, aucpn_range)\n",
    "#x contains the features and y contains the class labels\n",
    "x, y = dg.pn_data(n, alpha)[0:2]"
   ]
  },
  {
   "cell_type": "code",
   "execution_count": 3,
   "metadata": {},
   "outputs": [
    {
     "name": "stdout",
     "output_type": "stream",
     "text": [
      "[0.55573855 0.08193917 0.21405286 0.14826941]\n",
      "[0.09771288 0.45583994 0.44065592 0.00579125]\n"
     ]
    }
   ],
   "source": [
    "print(dg.dist_pos.mixProp)\n",
    "print(dg.dist_neg.mixProp)"
   ]
  },
  {
   "cell_type": "code",
   "execution_count": 4,
   "metadata": {},
   "outputs": [
    {
     "data": {
      "text/plain": [
       "True"
      ]
     },
     "execution_count": 4,
     "metadata": {},
     "output_type": "execute_result"
    }
   ],
   "source": [
    "a = np.array([[True, False],[False, False]])\n",
    "np.any(a)"
   ]
  },
  {
   "cell_type": "code",
   "execution_count": 5,
   "metadata": {},
   "outputs": [
    {
     "data": {
      "text/plain": [
       "0.9323499199999999"
      ]
     },
     "execution_count": 5,
     "metadata": {},
     "output_type": "execute_result"
    }
   ],
   "source": [
    "from data.randomParameters import AUCFromDistributions\n",
    "AUCFromDistributions(dg.dist_p, dg.dist_n)"
   ]
  },
  {
   "cell_type": "code",
   "execution_count": null,
   "metadata": {},
   "outputs": [],
   "source": [
    "np.sum()"
   ]
  },
  {
   "cell_type": "code",
   "execution_count": 6,
   "metadata": {},
   "outputs": [
    {
     "data": {
      "text/plain": [
       "[[0.9942160000000001, 0.9895723200000001, 0.80535024, 0.98008512],\n",
       " [0.88880896, 0.99176208, 0.904208, 0.86175296],\n",
       " [0.9889296, 0.9448976, 0.8527119999999999, 0.9339496000000002],\n",
       " [0.9721222399999999, 0.89886688, 0.99335616, 0.9949361600000001],\n",
       " [0.9287542399999998, 0.9642633599999999, 0.99126432, 0.9204299200000001],\n",
       " [0.946616, 0.94457232, 0.93084816, 0.9793816]]"
      ]
     },
     "execution_count": 6,
     "metadata": {},
     "output_type": "execute_result"
    }
   ],
   "source": [
    "dg.dist_n.mixProp-dg.dist_p.mixProp\n",
    "NMix.withinPairAUC()\n",
    "aucs, cmb = NMix.betweenAllPairsAUC()\n",
    "aucs"
   ]
  },
  {
   "cell_type": "code",
   "execution_count": null,
   "metadata": {},
   "outputs": [],
   "source": [
    "from scipy.stats import dirichlet\n",
    "dirichlet(0.5*np.ones(1)).rvs([])"
   ]
  },
  {
   "cell_type": "code",
   "execution_count": 9,
   "metadata": {},
   "outputs": [
    {
     "name": "stdout",
     "output_type": "stream",
     "text": [
      "01\n",
      "02\n",
      "03\n",
      "12\n",
      "13\n",
      "23\n"
     ]
    },
    {
     "data": {
      "text/plain": [
       "[None, None, None, None, None, None]"
      ]
     },
     "execution_count": 9,
     "metadata": {},
     "output_type": "execute_result"
    }
   ],
   "source": [
    "from itertools import combinations\n",
    "#[print(str(i)+str(j)) for i,j in cmb]\n",
    "cmb = combinations(np.arange(NMix.nComps), 2)\n",
    "[print(str(i)+str(j)) for i,j in cmb]\n"
   ]
  },
  {
   "cell_type": "code",
   "execution_count": null,
   "metadata": {},
   "outputs": [],
   "source": [
    "from itertools import combinations\n",
    "for i,j in combinations([1,2,3,4],2):\n",
    "    print(str(i)+str(j))"
   ]
  },
  {
   "cell_type": "code",
   "execution_count": 10,
   "metadata": {},
   "outputs": [
    {
     "data": {
      "text/plain": [
       "[]"
      ]
     },
     "execution_count": 10,
     "metadata": {},
     "output_type": "execute_result"
    }
   ],
   "source": [
    "[print(str(i)+str(j)) for i,j in cmb]"
   ]
  },
  {
   "cell_type": "code",
   "execution_count": null,
   "metadata": {},
   "outputs": [],
   "source": [
    "NMix.nComps\n"
   ]
  },
  {
   "cell_type": "code",
   "execution_count": null,
   "metadata": {},
   "outputs": [],
   "source": []
  }
 ],
 "metadata": {
  "kernelspec": {
   "display_name": "Python 3 (ipykernel)",
   "language": "python",
   "name": "python3"
  },
  "language_info": {
   "codemirror_mode": {
    "name": "ipython",
    "version": 3
   },
   "file_extension": ".py",
   "mimetype": "text/x-python",
   "name": "python",
   "nbconvert_exporter": "python",
   "pygments_lexer": "ipython3",
   "version": "3.9.13"
  }
 },
 "nbformat": 4,
 "nbformat_minor": 4
}
